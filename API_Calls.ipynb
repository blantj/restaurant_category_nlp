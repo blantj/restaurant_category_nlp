{
 "cells": [
  {
   "cell_type": "markdown",
   "metadata": {},
   "source": [
    "Import libraries"
   ]
  },
  {
   "cell_type": "code",
   "execution_count": 2,
   "metadata": {},
   "outputs": [],
   "source": [
    "import requests\n",
    "import json\n",
    "import pandas as pd"
   ]
  },
  {
   "cell_type": "markdown",
   "metadata": {},
   "source": [
    "Request gym and barber business names from Yelp Fusion API and save to businesses list"
   ]
  },
  {
   "cell_type": "code",
   "execution_count": 33,
   "metadata": {},
   "outputs": [],
   "source": [
    "categories = ['chinese','japanese','indpak']\n",
    "businesses = []\n",
    "for category in categories:\n",
    "    offset = 0\n",
    "    while offset < 400:\n",
    "        url = 'https://api.yelp.com/v3/businesses/search'\n",
    "        params = {'categories': category, 'limit':50, 'offset':offset, 'location': 'New York City', 'radius': 40000}\n",
    "        api_key = '8E-l2ZKylxFuWLxaBx0ApW8cR9QM4JfhHRFR6wjN4-j6cfud4b0GQzQVn-Cs2ZL1bmccud-1ZfdgXlK1CH0S2JVpQ3bkDzzqIxJbScuXCfj_7vJ5DmtbxJ54dKaPXnYx'\n",
    "        headers = {'Authorization': 'Bearer {}'.format(api_key)}\n",
    "        request = requests.get(url, params=params, headers=headers)\n",
    "        doc = json.loads(request.text)\n",
    "        for num in range(0,50):\n",
    "            businesses.append([category, doc['businesses'][num]['id'], doc['businesses'][num]['name']])\n",
    "        offset += 50"
   ]
  },
  {
   "cell_type": "markdown",
   "metadata": {},
   "source": [
    "Create list of urls for Yelp Fusion API reviews request"
   ]
  },
  {
   "cell_type": "code",
   "execution_count": 36,
   "metadata": {},
   "outputs": [],
   "source": [
    "business_urls = []\n",
    "for business in businesses:\n",
    "    business_urls.append([business[0], f'https://api.yelp.com/v3/businesses/{business[1]}/reviews'])\n",
    "reviews = []"
   ]
  },
  {
   "cell_type": "markdown",
   "metadata": {},
   "source": [
    "Request business reviews from Yelp Fusion API and save to reviews list"
   ]
  },
  {
   "cell_type": "code",
   "execution_count": 43,
   "metadata": {},
   "outputs": [],
   "source": [
    "count = 785\n",
    "for business_url in business_urls[count:]:\n",
    "    business = business_url[0]\n",
    "    url = business_url[1]\n",
    "    api_key = '8E-l2ZKylxFuWLxaBx0ApW8cR9QM4JfhHRFR6wjN4-j6cfud4b0GQzQVn-Cs2ZL1bmccud-1ZfdgXlK1CH0S2JVpQ3bkDzzqIxJbScuXCfj_7vJ5DmtbxJ54dKaPXnYx'\n",
    "    headers = {'Authorization': 'Bearer {}'.format(api_key)}\n",
    "    request = requests.get(url, headers=headers)\n",
    "    doc = json.loads(request.text)\n",
    "    for review in doc['reviews']:\n",
    "        reviews.append([business, review['text']])\n",
    "    count += 1"
   ]
  },
  {
   "cell_type": "markdown",
   "metadata": {},
   "source": [
    "Create df from Yelp reviews list"
   ]
  },
  {
   "cell_type": "code",
   "execution_count": 45,
   "metadata": {},
   "outputs": [
    {
     "data": {
      "text/html": [
       "<div>\n",
       "<style scoped>\n",
       "    .dataframe tbody tr th:only-of-type {\n",
       "        vertical-align: middle;\n",
       "    }\n",
       "\n",
       "    .dataframe tbody tr th {\n",
       "        vertical-align: top;\n",
       "    }\n",
       "\n",
       "    .dataframe thead th {\n",
       "        text-align: right;\n",
       "    }\n",
       "</style>\n",
       "<table border=\"1\" class=\"dataframe\">\n",
       "  <thead>\n",
       "    <tr style=\"text-align: right;\">\n",
       "      <th></th>\n",
       "      <th>Category</th>\n",
       "      <th>Review</th>\n",
       "    </tr>\n",
       "  </thead>\n",
       "  <tbody>\n",
       "    <tr>\n",
       "      <th>0</th>\n",
       "      <td>chinese</td>\n",
       "      <td>Classy and affordable - Buddakan is the perfec...</td>\n",
       "    </tr>\n",
       "    <tr>\n",
       "      <th>1</th>\n",
       "      <td>chinese</td>\n",
       "      <td>Buddakan was a great experience amid Covid-19....</td>\n",
       "    </tr>\n",
       "    <tr>\n",
       "      <th>2</th>\n",
       "      <td>chinese</td>\n",
       "      <td>By far one of my favorite restaurants in NYC. ...</td>\n",
       "    </tr>\n",
       "    <tr>\n",
       "      <th>3</th>\n",
       "      <td>chinese</td>\n",
       "      <td>Oh how I missed you New York Chinatown Chinese...</td>\n",
       "    </tr>\n",
       "    <tr>\n",
       "      <th>4</th>\n",
       "      <td>chinese</td>\n",
       "      <td>A solid four. I came solely for the xiao long ...</td>\n",
       "    </tr>\n",
       "  </tbody>\n",
       "</table>\n",
       "</div>"
      ],
      "text/plain": [
       "  Category                                             Review\n",
       "0  chinese  Classy and affordable - Buddakan is the perfec...\n",
       "1  chinese  Buddakan was a great experience amid Covid-19....\n",
       "2  chinese  By far one of my favorite restaurants in NYC. ...\n",
       "3  chinese  Oh how I missed you New York Chinatown Chinese...\n",
       "4  chinese  A solid four. I came solely for the xiao long ..."
      ]
     },
     "execution_count": 45,
     "metadata": {},
     "output_type": "execute_result"
    }
   ],
   "source": [
    "df = pd.DataFrame(reviews, columns= ['Category', 'Review'])\n",
    "df.head()"
   ]
  },
  {
   "cell_type": "markdown",
   "metadata": {},
   "source": [
    "Save yelp reviews df to csv file"
   ]
  },
  {
   "cell_type": "code",
   "execution_count": 46,
   "metadata": {},
   "outputs": [],
   "source": [
    "df.to_csv('yelp_reviews.csv', index=False)"
   ]
  },
  {
   "cell_type": "code",
   "execution_count": null,
   "metadata": {},
   "outputs": [],
   "source": []
  }
 ],
 "metadata": {
  "kernelspec": {
   "display_name": "Python 3",
   "language": "python",
   "name": "python3"
  },
  "language_info": {
   "codemirror_mode": {
    "name": "ipython",
    "version": 3
   },
   "file_extension": ".py",
   "mimetype": "text/x-python",
   "name": "python",
   "nbconvert_exporter": "python",
   "pygments_lexer": "ipython3",
   "version": "3.7.6"
  }
 },
 "nbformat": 4,
 "nbformat_minor": 4
}
